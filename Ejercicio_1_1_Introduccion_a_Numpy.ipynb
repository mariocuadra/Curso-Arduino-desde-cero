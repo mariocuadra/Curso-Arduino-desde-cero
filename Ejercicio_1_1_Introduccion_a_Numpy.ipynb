{
  "nbformat": 4,
  "nbformat_minor": 0,
  "metadata": {
    "colab": {
      "name": "Ejercicio 1-1 Introduccion a Numpy.ipynb",
      "provenance": [],
      "collapsed_sections": [],
      "authorship_tag": "ABX9TyOMIhiwl+8ySZdXa9sJi2Pb",
      "include_colab_link": true
    },
    "kernelspec": {
      "name": "python3",
      "display_name": "Python 3"
    },
    "language_info": {
      "name": "python"
    }
  },
  "cells": [
    {
      "cell_type": "markdown",
      "metadata": {
        "id": "view-in-github",
        "colab_type": "text"
      },
      "source": [
        "<a href=\"https://colab.research.google.com/github/mariocuadra/Curso-Arduino-desde-cero/blob/master/Ejercicio_1_1_Introduccion_a_Numpy.ipynb\" target=\"_parent\"><img src=\"https://colab.research.google.com/assets/colab-badge.svg\" alt=\"Open In Colab\"/></a>"
      ]
    },
    {
      "cell_type": "code",
      "metadata": {
        "id": "PshMOzRof34q"
      },
      "source": [
        "import numpy as np\n"
      ],
      "execution_count": null,
      "outputs": []
    },
    {
      "cell_type": "code",
      "metadata": {
        "colab": {
          "base_uri": "https://localhost:8080/"
        },
        "id": "2M3K_wn4f7Ka",
        "outputId": "386c54c8-a4b4-402c-dcd2-2d6d782df268"
      },
      "source": [
        "a=np.array([0,1,2,3,4,5])\n",
        "\n",
        "# EN NumPy creamos los arrays como las listas de Python. Ademas, tiene la ventaja de que podemos trasnformar la dimension de los arrays tal como se expone en el ejemplo\n",
        "\n",
        "b = a.reshape((3,2))\n",
        "# Visualiza el contenido del array\n",
        "b\n",
        "\n"
      ],
      "execution_count": null,
      "outputs": [
        {
          "output_type": "execute_result",
          "data": {
            "text/plain": [
              "array([[0, 1],\n",
              "       [2, 3],\n",
              "       [4, 5]])"
            ]
          },
          "metadata": {},
          "execution_count": 3
        }
      ]
    },
    {
      "cell_type": "code",
      "metadata": {
        "colab": {
          "base_uri": "https://localhost:8080/"
        },
        "id": "gE3f-smwhpAs",
        "outputId": "29853418-7d2e-4e7a-ab6e-e48e9f96f08a"
      },
      "source": [
        "# para averiguar la dimensión\n",
        "b.ndim\n",
        "\n",
        "# Para averiguara las dimensiones del array\n",
        "b.shape\n",
        "\n",
        "# para modificar un valor del array:\n",
        "\n",
        "b[1][0]=77\n",
        "\n",
        "# Comprueba que lo has modificado\n",
        "b\n",
        "\n",
        "# Y ademas, podemos comprobar que esta modificacion se ha realizado tambien en el array\n",
        "\n",
        "a"
      ],
      "execution_count": null,
      "outputs": [
        {
          "output_type": "execute_result",
          "data": {
            "text/plain": [
              "array([ 0,  1, 77,  3,  4,  5])"
            ]
          },
          "metadata": {},
          "execution_count": 4
        }
      ]
    },
    {
      "cell_type": "code",
      "metadata": {
        "colab": {
          "base_uri": "https://localhost:8080/"
        },
        "id": "5WvwbR7SkbhH",
        "outputId": "b5f8ef95-4b58-4f92-cfb0-df0809905cd9"
      },
      "source": [
        "# caso de querer que el array sea copiado y se consideren como 2 arrays distintos, deberiamos de hacer la siguiente operación:\n",
        "\n",
        "c= a.reshape((3,2)).copy()\n",
        "\n",
        "# visualiza c\n",
        "c\n",
        "\n",
        "#Modifica c\n",
        "\n",
        "c[0][0] = -99\n",
        "\n"
      ],
      "execution_count": null,
      "outputs": [
        {
          "output_type": "execute_result",
          "data": {
            "text/plain": [
              "array([[-99,   1],\n",
              "       [ 77,   3],\n",
              "       [  4,   5]])"
            ]
          },
          "metadata": {},
          "execution_count": 12
        }
      ]
    },
    {
      "cell_type": "code",
      "metadata": {
        "colab": {
          "base_uri": "https://localhost:8080/"
        },
        "id": "VvQE-iwfllo7",
        "outputId": "0af7d17a-8475-4ea0-dfa1-c03a2f585544"
      },
      "source": [
        "# con Numpy podemos propagar los cambios a todos los elementos\n",
        "\n",
        "a*2\n",
        "\n",
        "a\n",
        "\n",
        "\n"
      ],
      "execution_count": null,
      "outputs": [
        {
          "output_type": "execute_result",
          "data": {
            "text/plain": [
              "array([ 0,  1, 77,  3,  4,  5])"
            ]
          },
          "metadata": {},
          "execution_count": 8
        }
      ]
    },
    {
      "cell_type": "code",
      "metadata": {
        "colab": {
          "base_uri": "https://localhost:8080/"
        },
        "id": "JdJd11EQbTBh",
        "outputId": "62154732-3fc2-4f7a-e5dc-7f0388bcdbc1"
      },
      "source": [
        "a**2 # raiz cuadrada\n",
        "\n"
      ],
      "execution_count": null,
      "outputs": [
        {
          "output_type": "execute_result",
          "data": {
            "text/plain": [
              "array([   0,    1, 5929,    9,   16,   25])"
            ]
          },
          "metadata": {},
          "execution_count": 11
        }
      ]
    },
    {
      "cell_type": "code",
      "metadata": {
        "colab": {
          "base_uri": "https://localhost:8080/"
        },
        "id": "Bi070Eyubgh3",
        "outputId": "0e269a25-6771-40a1-a953-1672d750a5bc"
      },
      "source": [
        "# En NumPy, las operaciones de adición y sustracción de una lista son un poco mas complejas, permite usar los valores de array como indices.\n",
        "\n",
        "a[np.array([2,3,4])]"
      ],
      "execution_count": null,
      "outputs": [
        {
          "output_type": "execute_result",
          "data": {
            "text/plain": [
              "array([77,  3,  4])"
            ]
          },
          "metadata": {},
          "execution_count": 12
        }
      ]
    },
    {
      "cell_type": "code",
      "metadata": {
        "colab": {
          "base_uri": "https://localhost:8080/"
        },
        "id": "lxUOn0G7rPDx",
        "outputId": "e70f8b31-6cbe-43be-a48a-4afa571322ba"
      },
      "source": [
        "# Tambien puede haber comparaciones con los elementos\n",
        "\n",
        "a>4\n",
        "\n",
        "# tambien podria ser utilizado para la corrección de outliers al mayor que podemos tener.\n",
        "\n",
        "a[a>4] = 4\n",
        "\n",
        "# Hay funciones para marcar los rangos superior e inferior de los valores.\n",
        "\n",
        "a.clip(0,4)\n",
        "\n",
        "a"
      ],
      "execution_count": null,
      "outputs": [
        {
          "output_type": "execute_result",
          "data": {
            "text/plain": [
              "array([0, 1, 4, 3, 4, 4])"
            ]
          },
          "metadata": {},
          "execution_count": 16
        }
      ]
    },
    {
      "cell_type": "code",
      "metadata": {
        "colab": {
          "base_uri": "https://localhost:8080/"
        },
        "id": "m--mU90Egpbg",
        "outputId": "65b0657a-4c76-40d3-c535-7feb57560edd"
      },
      "source": [
        "#Podemos contener valores invalidos que son marcados como numpy.nan\n",
        "c= np.array([1,2, np.NAN,3,4])\n",
        "\n",
        "#Visualiza el array para ver el nan\n",
        "c\n",
        "\n"
      ],
      "execution_count": null,
      "outputs": [
        {
          "output_type": "execute_result",
          "data": {
            "text/plain": [
              "array([ 1.,  2., nan,  3.,  4.])"
            ]
          },
          "metadata": {},
          "execution_count": 18
        }
      ]
    },
    {
      "cell_type": "code",
      "metadata": {
        "colab": {
          "base_uri": "https://localhost:8080/"
        },
        "id": "4kPMMk9bhRqI",
        "outputId": "14d5c201-a111-437e-d99f-8a2f59949c6c"
      },
      "source": [
        "#incluso se puede preguntar si contiene algun valor invalido.\n",
        "np.isnan(c)"
      ],
      "execution_count": null,
      "outputs": [
        {
          "output_type": "execute_result",
          "data": {
            "text/plain": [
              "array([False, False,  True, False, False])"
            ]
          },
          "metadata": {},
          "execution_count": 19
        }
      ]
    },
    {
      "cell_type": "code",
      "metadata": {
        "colab": {
          "base_uri": "https://localhost:8080/"
        },
        "id": "BmkOkpVO66K2",
        "outputId": "5f1c159e-6f8e-4553-bbc4-3b0d67888a9a"
      },
      "source": [
        "# Y mostrar todos los valores validos con la siguiente sentencia.\n",
        "c[~np.isnan(c)]\n"
      ],
      "execution_count": null,
      "outputs": [
        {
          "output_type": "execute_result",
          "data": {
            "text/plain": [
              "array([1., 2., 3., 4.])"
            ]
          },
          "metadata": {},
          "execution_count": 23
        }
      ]
    },
    {
      "cell_type": "code",
      "metadata": {
        "colab": {
          "base_uri": "https://localhost:8080/"
        },
        "id": "C4twjgoZilAH",
        "outputId": "efb8de88-6583-4bb5-f647-eb61f2fc7b1f"
      },
      "source": [
        "# O sacar la media de los valores válidos\n",
        "np.mean(c[~np.isnan(c)])"
      ],
      "execution_count": null,
      "outputs": [
        {
          "output_type": "execute_result",
          "data": {
            "text/plain": [
              "2.5"
            ]
          },
          "metadata": {},
          "execution_count": 24
        }
      ]
    },
    {
      "cell_type": "markdown",
      "metadata": {
        "id": "7cyHbcuJNURT"
      },
      "source": [
        ""
      ]
    },
    {
      "cell_type": "code",
      "metadata": {
        "colab": {
          "base_uri": "https://localhost:8080/",
          "height": 35
        },
        "id": "DvRa8C5H7OS3",
        "outputId": "a0422937-02d6-4ccd-a04d-95436ea57092"
      },
      "source": [
        "#sacar la media de valores validos\n",
        "# Scipy ofrece muchos algoritmos para trabajar en NumPy con análisis predictivo.\n",
        "import scipy, numpy\n",
        "\n",
        "scipy.version.full_version\n",
        "\n"
      ],
      "execution_count": null,
      "outputs": [
        {
          "output_type": "execute_result",
          "data": {
            "application/vnd.google.colaboratory.intrinsic+json": {
              "type": "string"
            },
            "text/plain": [
              "'1.4.1'"
            ]
          },
          "metadata": {},
          "execution_count": 25
        }
      ]
    },
    {
      "cell_type": "code",
      "metadata": {
        "colab": {
          "base_uri": "https://localhost:8080/"
        },
        "id": "PzDZl9G2jEju",
        "outputId": "da4ed639-a657-4306-9423-01f04cacb66d"
      },
      "source": [
        "scipy.dot is numpy.dot"
      ],
      "execution_count": null,
      "outputs": [
        {
          "output_type": "execute_result",
          "data": {
            "text/plain": [
              "False"
            ]
          },
          "metadata": {},
          "execution_count": 26
        }
      ]
    }
  ]
}